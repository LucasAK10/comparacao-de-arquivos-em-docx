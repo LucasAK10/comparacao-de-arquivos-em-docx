{
 "cells": [
  {
   "cell_type": "markdown",
   "metadata": {},
   "source": [
    "meu_projeto_flask/\n",
    "│\n",
    "├── app.py\n",
    "├── requirements.txt\n",
    "└── templates/\n",
    "    ├── upload.html\n",
    "    └── result.html\n"
   ]
  }
 ],
 "metadata": {
  "language_info": {
   "name": "python"
  }
 },
 "nbformat": 4,
 "nbformat_minor": 2
}
