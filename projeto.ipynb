{
 "cells": [
  {
   "cell_type": "markdown",
   "metadata": {},
   "source": [
    "meu_projeto_flask/\n",
    "│\n",
    "├── app.py\n",
    "├── requirements.txt\n",
    "├── uploads/  # Esta pasta deve existir e estar acessível para o Flask\n",
    "└── templates/\n",
    "    ├── upload.html\n",
    "    └── result.html\n",
    "\n"
   ]
  }
 ],
 "metadata": {
  "language_info": {
   "name": "python"
  }
 },
 "nbformat": 4,
 "nbformat_minor": 2
}
